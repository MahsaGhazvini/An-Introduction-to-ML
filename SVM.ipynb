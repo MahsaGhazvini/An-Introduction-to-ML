{
 "cells": [
  {
   "cell_type": "code",
   "execution_count": 1,
   "metadata": {
    "collapsed": true
   },
   "outputs": [],
   "source": [
    "import numpy as np\n",
    "import re\n",
    "import collections\n",
    "import operator\n",
    "from scipy.optimize import minimize\n",
    "import copy\n",
    "import cvxopt\n",
    "import scipy.io as sio\n",
    "\n",
    "from scipy.optimize import fmin_bfgs"
   ]
  },
  {
   "cell_type": "code",
   "execution_count": 2,
   "metadata": {
    "collapsed": true
   },
   "outputs": [],
   "source": [
    "def readRT2k():\n",
    "    data = sio.loadmat('data/rt2k/bigram_rt2k.mat')\n",
    "    d1 = data['allSStr']\n",
    "    d2 = data['labels']\n",
    "    \n",
    "    data = []\n",
    "    for j in range(len(d1[0])):\n",
    "        data.append( (' '.join((d1[0][j][i][0][0] if d1[0][j][i][0] else ' ') for i in range(len(d1[0][j]))), d2[0][j]) )\n",
    "    return data"
   ]
  },
  {
   "cell_type": "code",
   "execution_count": 3,
   "metadata": {
    "collapsed": true
   },
   "outputs": [],
   "source": [
    "def readMPQA():\n",
    "    data_samples = []\n",
    "    for line in open('data/mpqa/mpqa_t4.dat', 'r'):\n",
    "        data_samples.append(line.split())\n",
    "    x1 = [' '.join(line[1:]) for line in data_samples]\n",
    "    y1 = [int(line[0]) for line in data_samples]\n",
    "    return zip(x1, y1)"
   ]
  },
  {
   "cell_type": "code",
   "execution_count": 4,
   "metadata": {
    "collapsed": true
   },
   "outputs": [],
   "source": [
    "d = readMPQA()"
   ]
  },
  {
   "cell_type": "code",
   "execution_count": 5,
   "metadata": {
    "collapsed": true
   },
   "outputs": [],
   "source": [
    "def findDic(text):\n",
    "    words = re.compile('[a-zA-Z\\']*[a-zA-Z]').findall(text)\n",
    "    return collections.Counter(words)"
   ]
  },
  {
   "cell_type": "code",
   "execution_count": 6,
   "metadata": {
    "collapsed": true
   },
   "outputs": [],
   "source": [
    "def readData(directory, paths, limit=None):\n",
    "    if limit:\n",
    "        paths = paths[0:limit]\n",
    "\n",
    "    data = []\n",
    "    for path in paths:\n",
    "        txt = open(directory + path).read()\n",
    "        data.append(txt)\n",
    "    return data"
   ]
  },
  {
   "cell_type": "code",
   "execution_count": 7,
   "metadata": {
    "collapsed": true
   },
   "outputs": [],
   "source": [
    "# data = sio.loadmat('data/mpqa/bigram_mpqa.mat')"
   ]
  },
  {
   "cell_type": "code",
   "execution_count": 8,
   "metadata": {
    "collapsed": true
   },
   "outputs": [],
   "source": [
    "# data_samples = []\n",
    "# for line in open('data/mpqa/mpqa_t4.dat', 'r'):\n",
    "#     data_samples.append(line.split())"
   ]
  },
  {
   "cell_type": "code",
   "execution_count": 9,
   "metadata": {
    "collapsed": true
   },
   "outputs": [],
   "source": [
    "data = readRT2k()"
   ]
  },
  {
   "cell_type": "code",
   "execution_count": 10,
   "metadata": {
    "collapsed": true
   },
   "outputs": [],
   "source": [
    "x1, y1 = zip(*data)"
   ]
  },
  {
   "cell_type": "code",
   "execution_count": 11,
   "metadata": {
    "collapsed": true
   },
   "outputs": [],
   "source": [
    "# x1 = [' '.join(line[1:]) for line in data_samples]\n",
    "# y1 = [int(line[0]) for line in data_samples]"
   ]
  },
  {
   "cell_type": "code",
   "execution_count": 12,
   "metadata": {
    "collapsed": true
   },
   "outputs": [],
   "source": [
    "from sklearn.utils import shuffle\n",
    "\n",
    "x, y = shuffle(x1, y1)\n",
    "\n",
    "testNegData = [x[i] for i in xrange(200) if y[i] == 0]\n",
    "testPosData = [x[i] for i in xrange(200) if y[i] == 1]"
   ]
  },
  {
   "cell_type": "code",
   "execution_count": 13,
   "metadata": {
    "collapsed": true
   },
   "outputs": [],
   "source": [
    "posData = [x[i] for i in xrange(200,len(x)) if y[i] == 1]\n",
    "negData = [x[i] for i in xrange(200,len(x)) if y[i] == 0]"
   ]
  },
  {
   "cell_type": "code",
   "execution_count": 14,
   "metadata": {},
   "outputs": [
    {
     "name": "stdout",
     "output_type": "stream",
     "text": [
      "904\n",
      "896\n",
      "104\n",
      "96\n",
      "  \" gordy \" is not a movie , it is a 90-minute-long \" sesame street \" skit , and a very bad one at that . this movie is so stupid and dumb that it's depressing to think that some hollywood executives actually gave this the green light , and even more surprising is the fact that this is a disney movie . i'm sure children are the target audience of this movie , but only kids under the age of five may be able to tolerate it . it is the story of a farm a piglet named gordy ( voiced by garms ) , whose family has been taken away to \" up north , \" which we know means death . of course we can hear the animals talk to each other , and they actually went to the trouble of attempting to sync the voices with their mouths but it comes out terrible . actually , it's almost funny in a way . the only remotely interesting and likable character soon appears , a little girl named jinnie sue macallister ( young ) who sees gordy on the back of a truck and essentially steals him . jinnie is a country singer and the film goes off on a huge tangent to show her little concert and the people dancing to it . what is the point of this ? maybe she is one of the producer's relatives and they wanted to show her on camera to promote her or something . we then cut to a huge social gathering and drop in on another young kid named hank royce ( roescher ) who is sad because his divorced mother is dating . he leaves the party and meets jinnie sue , but he accidentally falls in a pool ( probably because he was sitting on the diving board with a $200 suit on - nah , didn't see that one coming ! ) , starts to drown , and is miraculously saved as gordy pushes an inflatable float over to him and saves him . if this had not been insanely stupid already the story quickly changes when jinnie gives gordy to hank who then ends up becoming the ceo of a food processing corporation when hank's grandfather , the original ceo , dies and leaves his fortune to hank . . . and gordy ! of course there must be a villain , but even this villain ( donadio as sipes ) isn't that evil . he never raises his voice or becomes angry , and of course he has the typical idiot goons kidnap gordy but this is just so beyond stupid and cartoony we are constantly two steps ahead of the story . it's hard to tell whether the overall corniness and cheesiness to the movie is intentional because it is a family film , or if the filmmaker's are just this untalented and stupid . at times \" gordy \" is tolerable to watch , thus earning it one star and not the dreaded \" z- . \" but it's just so unbelievably boring , cliche , dumb , unfunny , corny , and just plain bad it may scare children , it certainly disturbed me .   ( 4/21/96 ) ( 1/29/97 ) ( 6/13/97 ) [see also : \" babe \" ]\n",
      "+++++\n",
      "mike myers , you certainly did throw us a ? frickin' bone here in what you call ? the biggest austin powers adventure yet . ' austin powers : the spy who shagged me is the sequel to the 1997 smash comedy austin powers : international man of mystery . many are skeptical about sequels , saying that the sequel is never better or as good as the original , but austin powers : tswsm goes beyond the first film . austin powers : the spy who shagged me stars mike myers in three different roles . he reprises his role as the title character , austin powers , the shagadelic spy whose body was frozen in 1967 , and unfrozen in 1997 to stop his long time nemesis dr . evil , also played by mike myers , from destroying the earth . tswsm leaves off where the original stopped , with dr . evil's ? frisch's big boy' space capsule floating through space . dr . evil returns back to earth by ejecting from his capsule , plotting to go back in his time machine to the year 1967 , in which he plans to steal austin powers' \" mojo \" , what keeps austin going with spy talents . upon his return to his secret lair , which is now a starbucks coffee shop , dr . evil learns that his evil henchman , which includes the returning robert wagner as number 2 and mindy sterling as frau , have created a 1/8 size clone of dr . evil , which is later named mini me . the evil mini me replaces scott evil , played by seth green , as dr . evil's son in the madman's mind , because dr . evil thinks of scott to be only \" quasi-evil . \" dr . evil has always wanted a son that is evil just like him , and now he has one . dr . evil tells mini me , \" you complete me , \" in a loving manner . dr . evil loving ? wow ! mike myers' third role is as fat bastard , a scottish henchman of dr . evil's , who is sent to steal the mojo from austin powers' frozen body . austin powers learns of dr . evil's trip back into the 60s , and uses his own time machine to take him back to 1967 , to try to save his mojo before fat bastard gets a hold of it . once arriving in the year 1967 , austin travels to his \" pad \" , his smashing home/dance club , where he meets felicity shagwell , played by heather graham , a cia agent who is willing to help him in his journey to stop dr . evil . as the film progresses , hilarious one liners are thrown at us , mainly by dr . evil , for example , \" don't go there , girlfriend ! \" to the president of the united states . many witty gags take place , note the entire tent scene , and just plain , funny scenes which are so stupid- they're funny come a dozen per fifteen minutes . take for example , scott evil going on the jerry springer show complaining about how evil his father is . the way austin powers : tswsm uses its humor is clever , throwing a hilarious scene at you , followed by five minutes of one liners , followed by another outrageous scene , so you never stop laughing . there was honestly not one moment in austin powers : tswsm where i wasn't laughing . the last film that i laughed so hard in , was well , austin powers ! it is apparent that mike myers knew how funny this film was while writing it . the film even makes fun of itself in a line , something along the lines of , \" it's funny how england and southern california look nothing alike . \" tswsm was filmed in southern california , but was supposed to take place in england . i can tell you one thing- he is having a lot of fun with this enormously popular character , which is all over television , newspapers , magazines , and the movie theaters . i believe that dr . evil got more attention in the tswsm than austin powers did . dr . evil provided more laughs , more memorable moments , and more interesting dialogue than austin did this time around , who seems to missing the funny touch that he had in the first film . i felt that austin really did have his mojo taken away , but from screenplay writer mike myers , not fat bastard . also making a great addition to the series is mini me , who is played by verne troyer . even though the midget actor is 30 years old , he is adorable by dr . evil's side constantly . the first austin powers film had barely any sentimental quality , such as lack of character development , barely any detailed plot characteristics , and barely any good acting , but austin powers tswsm actually shows some quality behind the frequent humor . mike myers , with his three roles , acts as eddie murphy did in the nutty professor , disguising himself completely in one of the roles .   ( fat bastard ) all three characters are different , and mike myers does do a good job handling each one of them . heather graham made a great addition with her talent to tswsm , and does a much better job than elizabeth hurley did , who gave a very flat performance in the original , speaking her lines without any feeling or emotion . speaking of hurley , she can be seen in tswsm for a few brief moments . hopefully , graham tags along for future austin powers adventures . the bottom line- a groovy sequel that mike myers put all of his mojo into writing .\n"
     ]
    }
   ],
   "source": [
    "print len(posData)\n",
    "print len(negData)\n",
    "print len(testNegData)\n",
    "print len(testPosData)\n",
    "print negData[0]\n",
    "print \"+++++\"\n",
    "print posData[0]"
   ]
  },
  {
   "cell_type": "code",
   "execution_count": 15,
   "metadata": {
    "collapsed": true
   },
   "outputs": [],
   "source": [
    "def findWordCount(data):\n",
    "    wordCount = []\n",
    "    for review in data:\n",
    "        wordCount.append(findDic(review))\n",
    "    return wordCount\n",
    "\n",
    "negDataDic = findWordCount(negData)\n",
    "posDataDic = findWordCount(posData)"
   ]
  },
  {
   "cell_type": "code",
   "execution_count": 16,
   "metadata": {
    "collapsed": true
   },
   "outputs": [],
   "source": [
    "def updateDic(mainDic, dicArray):\n",
    "    mainDic = copy.deepcopy(mainDic)\n",
    "    for dic in dicArray:\n",
    "        mainDic.update(dic)\n",
    "    \n",
    "    # update indexes\n",
    "    for index, key in enumerate(mainDic):\n",
    "        mainDic[ key ] = index\n",
    "        \n",
    "    return mainDic\n",
    "\n",
    "allWords = {}\n",
    "allWords = updateDic(allWords, negDataDic)\n",
    "allWords = updateDic(allWords, posDataDic)"
   ]
  },
  {
   "cell_type": "code",
   "execution_count": 17,
   "metadata": {
    "collapsed": true
   },
   "outputs": [],
   "source": [
    "def findRow(words, text, boolean=False):\n",
    "    row = np.zeros(len(allWords))\n",
    "    wordsDic = findDic(text)\n",
    "    for word in words:\n",
    "        if word in allWords:\n",
    "            row[allWords[word]] = 1 if boolean else wordsDic[word]\n",
    "    return row"
   ]
  },
  {
   "cell_type": "code",
   "execution_count": 18,
   "metadata": {
    "collapsed": true
   },
   "outputs": [],
   "source": [
    "def createTable(allWords, negData, y0, posData, y1):\n",
    "    x = []\n",
    "    for data in negData + posData:\n",
    "        x.append( findRow(allWords, data) )\n",
    "    x = np.row_stack(x)\n",
    "    \n",
    "    y = np.append(y0 * np.ones(len(negData)), y1 * np.ones(len(posData)))\n",
    "    return x, y"
   ]
  },
  {
   "cell_type": "code",
   "execution_count": 19,
   "metadata": {
    "collapsed": true
   },
   "outputs": [],
   "source": [
    "x, y = createTable(allWords, negData, -1, posData, 1)"
   ]
  },
  {
   "cell_type": "code",
   "execution_count": 20,
   "metadata": {
    "collapsed": true
   },
   "outputs": [],
   "source": [
    "M = len(x)\n",
    "k = np.zeros( (M, M) )"
   ]
  },
  {
   "cell_type": "code",
   "execution_count": 21,
   "metadata": {},
   "outputs": [
    {
     "name": "stdout",
     "output_type": "stream",
     "text": [
      "1800\n"
     ]
    }
   ],
   "source": [
    "print len(x)"
   ]
  },
  {
   "cell_type": "code",
   "execution_count": 22,
   "metadata": {
    "scrolled": true
   },
   "outputs": [
    {
     "name": "stdout",
     "output_type": "stream",
     "text": [
      "0\n",
      "300\n",
      "600\n",
      "900\n",
      "1200\n",
      "1500\n"
     ]
    }
   ],
   "source": [
    "for i in xrange(M):\n",
    "    if i%300 ==0:\n",
    "        print i\n",
    "    for j in xrange(M):\n",
    "        k[i][j] = np.dot(x[i].T, x[j])"
   ]
  },
  {
   "cell_type": "code",
   "execution_count": 23,
   "metadata": {},
   "outputs": [
    {
     "name": "stdout",
     "output_type": "stream",
     "text": [
      "     pcost       dcost       gap    pres   dres\n",
      " 0: -1.9063e+00 -9.7264e+00  4e+03  7e+01  2e-12\n",
      " 1: -1.8903e+00 -9.6225e+00  2e+02  3e+00  3e-12\n",
      " 2: -1.7344e+00 -8.6487e+00  3e+01  4e-01  3e-12\n",
      " 3: -1.3742e+00 -7.4841e+00  1e+01  1e-01  2e-12\n",
      " 4: -1.1674e+00 -4.0470e+00  4e+00  2e-02  2e-12\n",
      " 5: -1.2210e+00 -1.6787e+00  5e-01  2e-03  2e-12\n",
      " 6: -1.2912e+00 -1.3765e+00  9e-02  3e-04  2e-12\n",
      " 7: -1.3091e+00 -1.3230e+00  1e-02  3e-05  2e-12\n",
      " 8: -1.3125e+00 -1.3138e+00  1e-03  2e-06  2e-12\n",
      " 9: -1.3129e+00 -1.3129e+00  5e-05  5e-08  2e-12\n",
      "10: -1.3129e+00 -1.3129e+00  1e-06  7e-10  2e-12\n",
      "Optimal solution found.\n"
     ]
    }
   ],
   "source": [
    "C = 0.004\n",
    "P = cvxopt.matrix(np.outer(y, y) * k)\n",
    "q = cvxopt.matrix(np.ones(M) * -1)\n",
    "\n",
    "G = cvxopt.matrix(np.vstack([\n",
    "    np.eye(M) * -1,\n",
    "    np.eye(M)\n",
    "    ]))\n",
    "\n",
    "h = cvxopt.matrix(np.hstack([\n",
    "    np.zeros(M),\n",
    "    np.ones(M) * C\n",
    "    ]))\n",
    "\n",
    "A = cvxopt.matrix(y, (1,M))\n",
    "b = cvxopt.matrix(0.0)\n",
    "\n",
    "solution = cvxopt.solvers.qp(P, q, G, h, A, b)"
   ]
  },
  {
   "cell_type": "code",
   "execution_count": 24,
   "metadata": {
    "collapsed": true
   },
   "outputs": [],
   "source": [
    "a = solution['x']"
   ]
  },
  {
   "cell_type": "code",
   "execution_count": 25,
   "metadata": {
    "collapsed": true
   },
   "outputs": [],
   "source": [
    "w = np.zeros(len(x[0]))"
   ]
  },
  {
   "cell_type": "code",
   "execution_count": 26,
   "metadata": {
    "collapsed": true
   },
   "outputs": [],
   "source": [
    "for i in xrange(len(a)):\n",
    "    w += a[i] * y[i] * x[i]"
   ]
  },
  {
   "cell_type": "code",
   "execution_count": 27,
   "metadata": {},
   "outputs": [
    {
     "data": {
      "text/plain": [
       "array([ 0.01465651,  0.0003248 , -0.00109493, ..., -0.004     ,\n",
       "       -0.0017324 , -0.00259304])"
      ]
     },
     "execution_count": 27,
     "metadata": {},
     "output_type": "execute_result"
    }
   ],
   "source": [
    "w"
   ]
  },
  {
   "cell_type": "code",
   "execution_count": 28,
   "metadata": {},
   "outputs": [
    {
     "data": {
      "text/plain": [
       "-0.73695294484761487"
      ]
     },
     "execution_count": 28,
     "metadata": {},
     "output_type": "execute_result"
    }
   ],
   "source": [
    "w.dot( findRow(allWords, negData[1]) )"
   ]
  },
  {
   "cell_type": "code",
   "execution_count": 29,
   "metadata": {},
   "outputs": [
    {
     "name": "stdout",
     "output_type": "stream",
     "text": [
      "-0.380514205267\n"
     ]
    }
   ],
   "source": [
    "import random\n",
    "\n",
    "negMax=None\n",
    "for j in range(100):\n",
    "    nMax = None\n",
    "    for i in random.sample(negData,len(negData)/10):\n",
    "        t = w.dot( findRow(allWords, i) )\n",
    "        if not nMax or t > nMax:\n",
    "            nMax = t\n",
    "    if not negMax or nMax < negMax:\n",
    "        negMax = nMax\n",
    "print negMax"
   ]
  },
  {
   "cell_type": "code",
   "execution_count": 31,
   "metadata": {},
   "outputs": [
    {
     "name": "stdout",
     "output_type": "stream",
     "text": [
      "0.943172708518\n"
     ]
    }
   ],
   "source": [
    "posMin=None\n",
    "for j in range(100):\n",
    "    pMin = None\n",
    "    for i in random.sample(posData,len(posData)/10):\n",
    "        t = w.dot( findRow(allWords, i) )\n",
    "        if not pMin or t < pMin:\n",
    "            pMin = t\n",
    "    if not posMin or pMin > posMin:\n",
    "        posMin = pMin\n",
    "print posMin"
   ]
  },
  {
   "cell_type": "code",
   "execution_count": 32,
   "metadata": {},
   "outputs": [
    {
     "name": "stdout",
     "output_type": "stream",
     "text": [
      "0.943172708518\n",
      "-0.380514205267\n"
     ]
    }
   ],
   "source": [
    "print posMin\n",
    "print negMax\n",
    "b = (negMax+posMin)/2"
   ]
  },
  {
   "cell_type": "code",
   "execution_count": 33,
   "metadata": {},
   "outputs": [
    {
     "name": "stdout",
     "output_type": "stream",
     "text": [
      "0.281329251625\n"
     ]
    }
   ],
   "source": [
    "print b"
   ]
  },
  {
   "cell_type": "code",
   "execution_count": 34,
   "metadata": {
    "collapsed": true
   },
   "outputs": [],
   "source": [
    "def predict_with_b(x):\n",
    "    return w.dot( findRow(allWords, x)) + b"
   ]
  },
  {
   "cell_type": "code",
   "execution_count": 35,
   "metadata": {
    "collapsed": true
   },
   "outputs": [],
   "source": [
    "def predict_without_b(x):\n",
    "    return w.dot( findRow(allWords, x))"
   ]
  },
  {
   "cell_type": "code",
   "execution_count": 36,
   "metadata": {},
   "outputs": [
    {
     "name": "stdout",
     "output_type": "stream",
     "text": [
      "0.96875\n",
      "0.653846153846\n",
      "0.805\n"
     ]
    }
   ],
   "source": [
    "correct_p = 0\n",
    "correct_n = 0\n",
    "for i in testPosData:\n",
    "    if predict_with_b(i) > 0:\n",
    "        correct_p += 1\n",
    "for i in testNegData:\n",
    "    if predict_with_b(i) < 0:\n",
    "        correct_n += 1\n",
    "\n",
    "print correct_p*1. / len(testPosData)\n",
    "print correct_n*1. / len(testNegData)\n",
    "print (correct_n+correct_p)*1. / (len(testPosData) + len(testNegData))"
   ]
  },
  {
   "cell_type": "code",
   "execution_count": 37,
   "metadata": {},
   "outputs": [
    {
     "name": "stdout",
     "output_type": "stream",
     "text": [
      "0.916666666667\n",
      "0.778846153846\n",
      "0.845\n"
     ]
    }
   ],
   "source": [
    "correct_p = 0\n",
    "correct_n = 0\n",
    "for i in testPosData:\n",
    "    if predict_without_b(i) > 0:\n",
    "        correct_p += 1\n",
    "for i in testNegData:\n",
    "    if predict_without_b(i) < 0:\n",
    "        correct_n += 1\n",
    "\n",
    "print correct_p*1. / len(testPosData)\n",
    "print correct_n*1. / len(testNegData)\n",
    "print (correct_n+correct_p)*1. / (len(testPosData) + len(testNegData))"
   ]
  },
  {
   "cell_type": "code",
   "execution_count": null,
   "metadata": {
    "collapsed": true
   },
   "outputs": [],
   "source": []
  }
 ],
 "metadata": {
  "kernelspec": {
   "display_name": "Python 2",
   "language": "python",
   "name": "python2"
  },
  "language_info": {
   "codemirror_mode": {
    "name": "ipython",
    "version": 2
   },
   "file_extension": ".py",
   "mimetype": "text/x-python",
   "name": "python",
   "nbconvert_exporter": "python",
   "pygments_lexer": "ipython2",
   "version": "2.7.10"
  }
 },
 "nbformat": 4,
 "nbformat_minor": 2
}
